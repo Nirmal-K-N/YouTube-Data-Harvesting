{
 "cells": [
  {
   "cell_type": "code",
   "execution_count": 6,
   "metadata": {},
   "outputs": [],
   "source": [
    "import pandas as pd\n",
    "import mysql.connector\n",
    "from pprint import pprint\n",
    "\n",
    "db = mysql.connector.connect(\n",
    "    host = 'localhost',\n",
    "    user = 'root',\n",
    "    password = 'Nirmal9699',\n",
    "    database = 'youtube_data'\n",
    ")\n",
    "\n",
    "cur = db.cursor()\n",
    "db.commit()"
   ]
  },
  {
   "cell_type": "code",
   "execution_count": 18,
   "metadata": {},
   "outputs": [
    {
     "name": "stdout",
     "output_type": "stream",
     "text": [
      "      CHANNEL_NAME                                         VIDEO_NAME\n",
      "1   Gedura Academy                                    இலக்கு மாற்றாதே\n",
      "2   Gedura Academy              #businesscommunication #kvs Narayanan\n",
      "3   Gedura Academy  சுலபமான செயல் என்ன? #businesscommunication #kv...\n",
      "4   Gedura Academy                    Business Language@KVS Narayanan\n",
      "5   Gedura Academy                                        6 July 2023\n",
      "6   Gedura Academy                                        5 July 2023\n",
      "7   Gedura Academy                                        4 July 2023\n",
      "8   Gedura Academy           PHARMA SALES PSYCHOLGY Book Launch event\n",
      "9   Gedura Academy        What are the 5 Basics of Pharma Marketing ?\n",
      "10  Gedura Academy                                       Testimonials\n",
      "11  Gedura Academy                      K.V.S.Narayanan  Introduction\n",
      "12  Gedura Academy             Pharmaceutical Insights -KVS Narayanan\n"
     ]
    }
   ],
   "source": [
    "def qust_1():\n",
    "    sql = \"\"\"WITH SQ AS (\n",
    "            SELECT *\n",
    "            FROM video_ids vi\n",
    "            JOIN video_details vd\n",
    "            ON vi.Video_Ids = vd.Video_Id )\n",
    "            SELECT cd.Channel_Name, sq.Video_Name\n",
    "            FROM channel_details cd\n",
    "            JOIN SQ sq USING (Channel_Id)\"\"\"\n",
    "    cur.execute(sql)\n",
    "    data = cur.fetchall()\n",
    "    data_df = pd.DataFrame(data, columns=['CHANNEL_NAME', 'VIDEO_NAME']).reset_index(drop=True)\n",
    "    data_df.index += 1\n",
    "    return data_df\n",
    "\n",
    "pprint(qust_1())"
   ]
  },
  {
   "cell_type": "code",
   "execution_count": 21,
   "metadata": {},
   "outputs": [
    {
     "name": "stdout",
     "output_type": "stream",
     "text": [
      "     CHANNEL_NAME  VIDEO_COUNT\n",
      "1  Gedura Academy           12\n"
     ]
    }
   ],
   "source": [
    "def qust_2():\n",
    "    sql = \"\"\"WITH SQ AS (\n",
    "            SELECT *\n",
    "            FROM video_ids vi\n",
    "            JOIN video_details vd\n",
    "            ON vi.Video_Ids = vd.Video_Id )\n",
    "            SELECT cd.Channel_Name, COUNT(sq.Video_Id) AS video_count \n",
    "            FROM channel_details cd JOIN SQ sq\n",
    "            ON cd.Channel_Id = sq.Channel_Id \n",
    "            GROUP BY cd.Channel_Name \n",
    "            ORDER BY video_count DESC\"\"\"\n",
    "    cur.execute(sql)\n",
    "    data = cur.fetchall()\n",
    "    data_df = pd.DataFrame(data, columns=['CHANNEL_NAME', 'VIDEO_COUNT']).reset_index(drop=True)\n",
    "    data_df.index += 1\n",
    "    return data_df\n",
    "\n",
    "pprint(qust_2())"
   ]
  },
  {
   "cell_type": "code",
   "execution_count": 23,
   "metadata": {},
   "outputs": [
    {
     "name": "stdout",
     "output_type": "stream",
     "text": [
      "TOP 10 CHANNEL VIEWS\n",
      "      CHANNEL_NAME                                         VIDEO_NAME  \\\n",
      "1   Gedura Academy                      K.V.S.Narayanan  Introduction   \n",
      "2   Gedura Academy                    Business Language@KVS Narayanan   \n",
      "3   Gedura Academy                                        5 July 2023   \n",
      "4   Gedura Academy        What are the 5 Basics of Pharma Marketing ?   \n",
      "5   Gedura Academy             Pharmaceutical Insights -KVS Narayanan   \n",
      "6   Gedura Academy                                    இலக்கு மாற்றாதே   \n",
      "7   Gedura Academy  சுலபமான செயல் என்ன? #businesscommunication #kv...   \n",
      "8   Gedura Academy                                        6 July 2023   \n",
      "9   Gedura Academy              #businesscommunication #kvs Narayanan   \n",
      "10  Gedura Academy                                        4 July 2023   \n",
      "\n",
      "    VIEW_COUNT  \n",
      "1          375  \n",
      "2          289  \n",
      "3          202  \n",
      "4          176  \n",
      "5          164  \n",
      "6          139  \n",
      "7          114  \n",
      "8           55  \n",
      "9           53  \n",
      "10          53  \n"
     ]
    }
   ],
   "source": [
    "def qust_3():\n",
    "    print(\"TOP 10 CHANNEL VIEWS\")\n",
    "    sql = \"\"\"WITH SQ AS (\n",
    "            SELECT *\n",
    "            FROM video_ids vi\n",
    "            JOIN video_details vd\n",
    "            ON vi.Video_Ids = vd.Video_Id )\n",
    "            SELECT cd.Channel_Name,sq.Video_Name,sq.View_Count \n",
    "            FROM SQ sq JOIN channel_details cd \n",
    "            ON sq.Channel_Id = cd.Channel_Id\n",
    "            ORDER BY sq.View_Count DESC \n",
    "            LIMIT 10\"\"\"\n",
    "    cur.execute(sql)\n",
    "    data = cur.fetchall()\n",
    "    data_df = pd.DataFrame(data, columns=['CHANNEL_NAME', 'VIDEO_NAME', 'VIEW_COUNT']).reset_index(drop=True)\n",
    "    data_df.index += 1\n",
    "    return data_df\n",
    "\n",
    "pprint(qust_3())"
   ]
  },
  {
   "cell_type": "code",
   "execution_count": 27,
   "metadata": {},
   "outputs": [
    {
     "name": "stdout",
     "output_type": "stream",
     "text": [
      "                                           VIDEO_NAME  COMMENT_COUNT\n",
      "1                       K.V.S.Narayanan  Introduction              4\n",
      "2               #businesscommunication #kvs Narayanan              1\n",
      "3              Pharmaceutical Insights -KVS Narayanan              1\n",
      "4                                     இலக்கு மாற்றாதே              0\n",
      "5   சுலபமான செயல் என்ன? #businesscommunication #kv...              0\n",
      "6                     Business Language@KVS Narayanan              0\n",
      "7                                         6 July 2023              0\n",
      "8                                         5 July 2023              0\n",
      "9                                         4 July 2023              0\n",
      "10           PHARMA SALES PSYCHOLGY Book Launch event              0\n",
      "11        What are the 5 Basics of Pharma Marketing ?              0\n",
      "12                                       Testimonials              0\n"
     ]
    }
   ],
   "source": [
    "def qust_4():\n",
    "    sql = \"\"\"SELECT Video_Name, Comment_Count \n",
    "            from video_details \n",
    "            ORDER BY comment_count DESC\"\"\"\n",
    "    cur.execute(sql)\n",
    "    data = cur.fetchall()\n",
    "    data_df = pd.DataFrame(data, columns=['VIDEO_NAME', 'COMMENT_COUNT']).reset_index(drop=True)\n",
    "    data_df.index += 1\n",
    "    return data_df\n",
    "\n",
    "pprint(qust_4())   "
   ]
  },
  {
   "cell_type": "code",
   "execution_count": 31,
   "metadata": {},
   "outputs": [
    {
     "name": "stdout",
     "output_type": "stream",
     "text": [
      "      CHANNEL_NAME                                         VIDEO_NAME  \\\n",
      "1   Gedura Academy                      K.V.S.Narayanan  Introduction   \n",
      "2   Gedura Academy        What are the 5 Basics of Pharma Marketing ?   \n",
      "3   Gedura Academy                                    இலக்கு மாற்றாதே   \n",
      "4   Gedura Academy              #businesscommunication #kvs Narayanan   \n",
      "5   Gedura Academy                                        5 July 2023   \n",
      "6   Gedura Academy             Pharmaceutical Insights -KVS Narayanan   \n",
      "7   Gedura Academy                    Business Language@KVS Narayanan   \n",
      "8   Gedura Academy  சுலபமான செயல் என்ன? #businesscommunication #kv...   \n",
      "9   Gedura Academy           PHARMA SALES PSYCHOLGY Book Launch event   \n",
      "10  Gedura Academy                                        6 July 2023   \n",
      "11  Gedura Academy                                        4 July 2023   \n",
      "12  Gedura Academy                                       Testimonials   \n",
      "\n",
      "    LIKE_COUNT  \n",
      "1           20  \n",
      "2           11  \n",
      "3           10  \n",
      "4            8  \n",
      "5            8  \n",
      "6            8  \n",
      "7            5  \n",
      "8            4  \n",
      "9            4  \n",
      "10           2  \n",
      "11           2  \n",
      "12           0  \n"
     ]
    }
   ],
   "source": [
    "def qust_5():\n",
    "    sql = \"\"\"WITH SQ AS (\n",
    "            SELECT *\n",
    "            FROM video_ids vi\n",
    "            JOIN video_details vd\n",
    "            ON vi.Video_Ids = vd.Video_Id )\n",
    "            SELECT cd.Channel_Name, sq.Video_Name, sq.Like_Count \n",
    "            FROM SQ sq JOIN channel_details cd \n",
    "            ON sq.Channel_Id = cd.Channel_Id \n",
    "            ORDER BY sq.Like_Count DESC\"\"\"\n",
    "    cur.execute(sql)\n",
    "    data = cur.fetchall()\n",
    "    data_df = pd.DataFrame(data, columns=['CHANNEL_NAME', 'VIDEO_NAME','LIKE_COUNT']).reset_index(drop=True)\n",
    "    data_df.index += 1\n",
    "    return data_df\n",
    "\n",
    "pprint(qust_5())"
   ]
  },
  {
   "cell_type": "code",
   "execution_count": 34,
   "metadata": {},
   "outputs": [
    {
     "name": "stdout",
     "output_type": "stream",
     "text": [
      "                                           VIDEO_NAME  LIKE_COUNT\n",
      "1                       K.V.S.Narayanan  Introduction          20\n",
      "2         What are the 5 Basics of Pharma Marketing ?          11\n",
      "3                                     இலக்கு மாற்றாதே          10\n",
      "4               #businesscommunication #kvs Narayanan           8\n",
      "5                                         5 July 2023           8\n",
      "6              Pharmaceutical Insights -KVS Narayanan           8\n",
      "7                     Business Language@KVS Narayanan           5\n",
      "8   சுலபமான செயல் என்ன? #businesscommunication #kv...           4\n",
      "9            PHARMA SALES PSYCHOLGY Book Launch event           4\n",
      "10                                        6 July 2023           2\n",
      "11                                        4 July 2023           2\n",
      "12                                       Testimonials           0\n"
     ]
    }
   ],
   "source": [
    "def qust_6():\n",
    "    sql = \"\"\"SELECT Video_Name, Like_Count \n",
    "            FROM video_details\n",
    "            ORDER BY Like_Count DESC\"\"\"\n",
    "    cur.execute(sql)\n",
    "    data = cur.fetchall()\n",
    "    data_df = pd.DataFrame(data, columns=['VIDEO_NAME', 'LIKE_COUNT']).reset_index(drop=True)\n",
    "    data_df.index += 1\n",
    "    return data_df\n",
    "\n",
    "print(qust_6())"
   ]
  },
  {
   "cell_type": "code",
   "execution_count": 38,
   "metadata": {},
   "outputs": [
    {
     "name": "stdout",
     "output_type": "stream",
     "text": [
      "     CHANNEL_NAME  CHANNEL_VIEWS\n",
      "1  Gedura Academy           1685\n"
     ]
    }
   ],
   "source": [
    "def qust_7():\n",
    "    sql = \"\"\"SELECT Channel_Name, Channel_views\n",
    "            FROM channel_details\n",
    "            ORDER BY Channel_Views DESC\"\"\"\n",
    "    cur.execute(sql)\n",
    "    data= cur.fetchall()\n",
    "    data_df = pd.DataFrame(data, columns=['CHANNEL_NAME', 'CHANNEL_VIEWS']).reset_index(drop=True)\n",
    "    data_df.index += 1\n",
    "    return data_df\n",
    "\n",
    "pprint(qust_7())"
   ]
  },
  {
   "cell_type": "code",
   "execution_count": 42,
   "metadata": {},
   "outputs": [
    {
     "name": "stdout",
     "output_type": "stream",
     "text": [
      "     CHANNEL_NAME                                   VIDEO_NAME  \\\n",
      "1  Gedura Academy  What are the 5 Basics of Pharma Marketing ?   \n",
      "\n",
      "           VIDEO_2022  \n",
      "1 2022-04-03 06:45:37  \n"
     ]
    }
   ],
   "source": [
    "def qust_8():\n",
    "    sql = \"\"\"WITH SQ AS (\n",
    "            SELECT *\n",
    "            FROM video_ids vi\n",
    "            JOIN video_details vd\n",
    "            ON vi.Video_Ids = vd.Video_Id )\n",
    "            SELECT cd.Channel_Name, sq.Video_Name, sq.PublishedAt \n",
    "            FROM channel_details cd JOIN SQ sq \n",
    "            ON cd.Channel_Id = sq.Channel_Id\n",
    "            WHERE EXTRACT(YEAR FROM sq.PublishedAt) = 2022\"\"\"\n",
    "    cur.execute(sql)\n",
    "    data= cur.fetchall()\n",
    "    data_df = pd.DataFrame(data, columns=['CHANNEL_NAME', 'VIDEO_NAME', 'VIDEO_2022']).reset_index(drop=True)\n",
    "    data_df.index += 1\n",
    "    return data_df\n",
    "\n",
    "pprint(qust_8())    "
   ]
  },
  {
   "cell_type": "code",
   "execution_count": 44,
   "metadata": {},
   "outputs": [
    {
     "name": "stdout",
     "output_type": "stream",
     "text": [
      "     CHANNEL_NAME AVERAGE_DURATION\n",
      "1  Gedura Academy           115.67\n"
     ]
    }
   ],
   "source": [
    "def qust_9():\n",
    "    sql = \"\"\"WITH SQ AS (\n",
    "            SELECT *\n",
    "            FROM video_ids vi\n",
    "            JOIN video_details vd\n",
    "            ON vi.Video_Ids = vd.Video_Id )\n",
    "            SELECT cd.Channel_Name, ROUND(AVG(sq.Duration),2) AS average_duration \n",
    "            FROM channel_details cd JOIN SQ sq \n",
    "            ON cd.Channel_Id = sq.Channel_Id \n",
    "            GROUP BY cd.channel_name \n",
    "            ORDER BY average_duration DESC\"\"\"\n",
    "    cur.execute(sql)\n",
    "    data = cur.fetchall()\n",
    "    data_df = pd.DataFrame(data, columns=['CHANNEL_NAME', 'AVERAGE_DURATION']).reset_index(drop=True)\n",
    "    data_df.index += 1\n",
    "    return data_df\n",
    "\n",
    "pprint(qust_9())"
   ]
  },
  {
   "cell_type": "code",
   "execution_count": 45,
   "metadata": {},
   "outputs": [
    {
     "name": "stdout",
     "output_type": "stream",
     "text": [
      "      CHANNEL_NAME                                         VIDEO_NAME  \\\n",
      "1   Gedura Academy                      K.V.S.Narayanan  Introduction   \n",
      "2   Gedura Academy              #businesscommunication #kvs Narayanan   \n",
      "3   Gedura Academy             Pharmaceutical Insights -KVS Narayanan   \n",
      "4   Gedura Academy                                    இலக்கு மாற்றாதே   \n",
      "5   Gedura Academy  சுலபமான செயல் என்ன? #businesscommunication #kv...   \n",
      "6   Gedura Academy                    Business Language@KVS Narayanan   \n",
      "7   Gedura Academy                                        6 July 2023   \n",
      "8   Gedura Academy                                        5 July 2023   \n",
      "9   Gedura Academy                                        4 July 2023   \n",
      "10  Gedura Academy           PHARMA SALES PSYCHOLGY Book Launch event   \n",
      "11  Gedura Academy        What are the 5 Basics of Pharma Marketing ?   \n",
      "12  Gedura Academy                                       Testimonials   \n",
      "\n",
      "    COMMENT_COUNT  \n",
      "1               4  \n",
      "2               1  \n",
      "3               1  \n",
      "4               0  \n",
      "5               0  \n",
      "6               0  \n",
      "7               0  \n",
      "8               0  \n",
      "9               0  \n",
      "10              0  \n",
      "11              0  \n",
      "12              0  \n"
     ]
    }
   ],
   "source": [
    "def qust_10():\n",
    "    sql = \"\"\"WITH SQ AS (\n",
    "            SELECT *\n",
    "            FROM video_ids vi\n",
    "            JOIN video_details vd\n",
    "            ON vi.Video_Ids = vd.Video_Id )\n",
    "            SELECT cd.Channel_Name, sq.Video_Name, sq.Comment_Count \n",
    "            FROM SQ sq \n",
    "            JOIN channel_details cd \n",
    "            ON cd.Channel_Id = sq.Channel_Id\n",
    "            ORDER BY comment_count DESC\"\"\"\n",
    "    cur.execute(sql)\n",
    "    data = cur.fetchall()\n",
    "    data_df = pd.DataFrame(data, columns=['CHANNEL_NAME', 'VIDEO_NAME','COMMENT_COUNT']).reset_index(drop=True)\n",
    "    data_df.index += 1\n",
    "    return data_df\n",
    "\n",
    "pprint(qust_10())"
   ]
  }
 ],
 "metadata": {
  "kernelspec": {
   "display_name": "Python 3",
   "language": "python",
   "name": "python3"
  },
  "language_info": {
   "codemirror_mode": {
    "name": "ipython",
    "version": 3
   },
   "file_extension": ".py",
   "mimetype": "text/x-python",
   "name": "python",
   "nbconvert_exporter": "python",
   "pygments_lexer": "ipython3",
   "version": "3.11.5"
  }
 },
 "nbformat": 4,
 "nbformat_minor": 2
}
